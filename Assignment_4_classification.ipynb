{
 "cells": [
  {
   "cell_type": "code",
   "execution_count": 1,
   "id": "5f24c5ba-57c0-4543-a828-f101368df149",
   "metadata": {},
   "outputs": [
    {
     "data": {
      "text/html": [
       "<div>\n",
       "<style scoped>\n",
       "    .dataframe tbody tr th:only-of-type {\n",
       "        vertical-align: middle;\n",
       "    }\n",
       "\n",
       "    .dataframe tbody tr th {\n",
       "        vertical-align: top;\n",
       "    }\n",
       "\n",
       "    .dataframe thead th {\n",
       "        text-align: right;\n",
       "    }\n",
       "</style>\n",
       "<table border=\"1\" class=\"dataframe\">\n",
       "  <thead>\n",
       "    <tr style=\"text-align: right;\">\n",
       "      <th></th>\n",
       "      <th>mean radius</th>\n",
       "      <th>mean texture</th>\n",
       "      <th>mean perimeter</th>\n",
       "      <th>mean area</th>\n",
       "      <th>mean smoothness</th>\n",
       "      <th>mean compactness</th>\n",
       "      <th>mean concavity</th>\n",
       "      <th>mean concave points</th>\n",
       "      <th>mean symmetry</th>\n",
       "      <th>mean fractal dimension</th>\n",
       "      <th>...</th>\n",
       "      <th>worst texture</th>\n",
       "      <th>worst perimeter</th>\n",
       "      <th>worst area</th>\n",
       "      <th>worst smoothness</th>\n",
       "      <th>worst compactness</th>\n",
       "      <th>worst concavity</th>\n",
       "      <th>worst concave points</th>\n",
       "      <th>worst symmetry</th>\n",
       "      <th>worst fractal dimension</th>\n",
       "      <th>target</th>\n",
       "    </tr>\n",
       "  </thead>\n",
       "  <tbody>\n",
       "    <tr>\n",
       "      <th>0</th>\n",
       "      <td>17.99</td>\n",
       "      <td>10.38</td>\n",
       "      <td>122.80</td>\n",
       "      <td>1001.0</td>\n",
       "      <td>0.11840</td>\n",
       "      <td>0.27760</td>\n",
       "      <td>0.3001</td>\n",
       "      <td>0.14710</td>\n",
       "      <td>0.2419</td>\n",
       "      <td>0.07871</td>\n",
       "      <td>...</td>\n",
       "      <td>17.33</td>\n",
       "      <td>184.60</td>\n",
       "      <td>2019.0</td>\n",
       "      <td>0.1622</td>\n",
       "      <td>0.6656</td>\n",
       "      <td>0.7119</td>\n",
       "      <td>0.2654</td>\n",
       "      <td>0.4601</td>\n",
       "      <td>0.11890</td>\n",
       "      <td>0</td>\n",
       "    </tr>\n",
       "    <tr>\n",
       "      <th>1</th>\n",
       "      <td>20.57</td>\n",
       "      <td>17.77</td>\n",
       "      <td>132.90</td>\n",
       "      <td>1326.0</td>\n",
       "      <td>0.08474</td>\n",
       "      <td>0.07864</td>\n",
       "      <td>0.0869</td>\n",
       "      <td>0.07017</td>\n",
       "      <td>0.1812</td>\n",
       "      <td>0.05667</td>\n",
       "      <td>...</td>\n",
       "      <td>23.41</td>\n",
       "      <td>158.80</td>\n",
       "      <td>1956.0</td>\n",
       "      <td>0.1238</td>\n",
       "      <td>0.1866</td>\n",
       "      <td>0.2416</td>\n",
       "      <td>0.1860</td>\n",
       "      <td>0.2750</td>\n",
       "      <td>0.08902</td>\n",
       "      <td>0</td>\n",
       "    </tr>\n",
       "    <tr>\n",
       "      <th>2</th>\n",
       "      <td>19.69</td>\n",
       "      <td>21.25</td>\n",
       "      <td>130.00</td>\n",
       "      <td>1203.0</td>\n",
       "      <td>0.10960</td>\n",
       "      <td>0.15990</td>\n",
       "      <td>0.1974</td>\n",
       "      <td>0.12790</td>\n",
       "      <td>0.2069</td>\n",
       "      <td>0.05999</td>\n",
       "      <td>...</td>\n",
       "      <td>25.53</td>\n",
       "      <td>152.50</td>\n",
       "      <td>1709.0</td>\n",
       "      <td>0.1444</td>\n",
       "      <td>0.4245</td>\n",
       "      <td>0.4504</td>\n",
       "      <td>0.2430</td>\n",
       "      <td>0.3613</td>\n",
       "      <td>0.08758</td>\n",
       "      <td>0</td>\n",
       "    </tr>\n",
       "    <tr>\n",
       "      <th>3</th>\n",
       "      <td>11.42</td>\n",
       "      <td>20.38</td>\n",
       "      <td>77.58</td>\n",
       "      <td>386.1</td>\n",
       "      <td>0.14250</td>\n",
       "      <td>0.28390</td>\n",
       "      <td>0.2414</td>\n",
       "      <td>0.10520</td>\n",
       "      <td>0.2597</td>\n",
       "      <td>0.09744</td>\n",
       "      <td>...</td>\n",
       "      <td>26.50</td>\n",
       "      <td>98.87</td>\n",
       "      <td>567.7</td>\n",
       "      <td>0.2098</td>\n",
       "      <td>0.8663</td>\n",
       "      <td>0.6869</td>\n",
       "      <td>0.2575</td>\n",
       "      <td>0.6638</td>\n",
       "      <td>0.17300</td>\n",
       "      <td>0</td>\n",
       "    </tr>\n",
       "    <tr>\n",
       "      <th>4</th>\n",
       "      <td>20.29</td>\n",
       "      <td>14.34</td>\n",
       "      <td>135.10</td>\n",
       "      <td>1297.0</td>\n",
       "      <td>0.10030</td>\n",
       "      <td>0.13280</td>\n",
       "      <td>0.1980</td>\n",
       "      <td>0.10430</td>\n",
       "      <td>0.1809</td>\n",
       "      <td>0.05883</td>\n",
       "      <td>...</td>\n",
       "      <td>16.67</td>\n",
       "      <td>152.20</td>\n",
       "      <td>1575.0</td>\n",
       "      <td>0.1374</td>\n",
       "      <td>0.2050</td>\n",
       "      <td>0.4000</td>\n",
       "      <td>0.1625</td>\n",
       "      <td>0.2364</td>\n",
       "      <td>0.07678</td>\n",
       "      <td>0</td>\n",
       "    </tr>\n",
       "  </tbody>\n",
       "</table>\n",
       "<p>5 rows × 31 columns</p>\n",
       "</div>"
      ],
      "text/plain": [
       "   mean radius  mean texture  mean perimeter  mean area  mean smoothness  \\\n",
       "0        17.99         10.38          122.80     1001.0          0.11840   \n",
       "1        20.57         17.77          132.90     1326.0          0.08474   \n",
       "2        19.69         21.25          130.00     1203.0          0.10960   \n",
       "3        11.42         20.38           77.58      386.1          0.14250   \n",
       "4        20.29         14.34          135.10     1297.0          0.10030   \n",
       "\n",
       "   mean compactness  mean concavity  mean concave points  mean symmetry  \\\n",
       "0           0.27760          0.3001              0.14710         0.2419   \n",
       "1           0.07864          0.0869              0.07017         0.1812   \n",
       "2           0.15990          0.1974              0.12790         0.2069   \n",
       "3           0.28390          0.2414              0.10520         0.2597   \n",
       "4           0.13280          0.1980              0.10430         0.1809   \n",
       "\n",
       "   mean fractal dimension  ...  worst texture  worst perimeter  worst area  \\\n",
       "0                 0.07871  ...          17.33           184.60      2019.0   \n",
       "1                 0.05667  ...          23.41           158.80      1956.0   \n",
       "2                 0.05999  ...          25.53           152.50      1709.0   \n",
       "3                 0.09744  ...          26.50            98.87       567.7   \n",
       "4                 0.05883  ...          16.67           152.20      1575.0   \n",
       "\n",
       "   worst smoothness  worst compactness  worst concavity  worst concave points  \\\n",
       "0            0.1622             0.6656           0.7119                0.2654   \n",
       "1            0.1238             0.1866           0.2416                0.1860   \n",
       "2            0.1444             0.4245           0.4504                0.2430   \n",
       "3            0.2098             0.8663           0.6869                0.2575   \n",
       "4            0.1374             0.2050           0.4000                0.1625   \n",
       "\n",
       "   worst symmetry  worst fractal dimension  target  \n",
       "0          0.4601                  0.11890       0  \n",
       "1          0.2750                  0.08902       0  \n",
       "2          0.3613                  0.08758       0  \n",
       "3          0.6638                  0.17300       0  \n",
       "4          0.2364                  0.07678       0  \n",
       "\n",
       "[5 rows x 31 columns]"
      ]
     },
     "execution_count": 1,
     "metadata": {},
     "output_type": "execute_result"
    }
   ],
   "source": [
    "from sklearn.datasets import load_breast_cancer\n",
    "import pandas as pd\n",
    "data = load_breast_cancer()\n",
    "\n",
    "df = pd.DataFrame(data.data, columns=data.feature_names)\n",
    "df['target'] = data.target\n",
    "df.head()"
   ]
  },
  {
   "cell_type": "code",
   "execution_count": 3,
   "id": "6027b720-570e-4096-9754-7d9460665986",
   "metadata": {},
   "outputs": [
    {
     "data": {
      "text/plain": [
       "mean radius                0\n",
       "mean texture               0\n",
       "mean perimeter             0\n",
       "mean area                  0\n",
       "mean smoothness            0\n",
       "mean compactness           0\n",
       "mean concavity             0\n",
       "mean concave points        0\n",
       "mean symmetry              0\n",
       "mean fractal dimension     0\n",
       "radius error               0\n",
       "texture error              0\n",
       "perimeter error            0\n",
       "area error                 0\n",
       "smoothness error           0\n",
       "compactness error          0\n",
       "concavity error            0\n",
       "concave points error       0\n",
       "symmetry error             0\n",
       "fractal dimension error    0\n",
       "worst radius               0\n",
       "worst texture              0\n",
       "worst perimeter            0\n",
       "worst area                 0\n",
       "worst smoothness           0\n",
       "worst compactness          0\n",
       "worst concavity            0\n",
       "worst concave points       0\n",
       "worst symmetry             0\n",
       "worst fractal dimension    0\n",
       "target                     0\n",
       "dtype: int64"
      ]
     },
     "execution_count": 3,
     "metadata": {},
     "output_type": "execute_result"
    }
   ],
   "source": [
    "df.isnull().sum()"
   ]
  },
  {
   "cell_type": "markdown",
   "id": "82b32625-a5c3-4151-9a57-f3f0495e8156",
   "metadata": {},
   "source": [
    "# correlaion of each target value"
   ]
  },
  {
   "cell_type": "code",
   "execution_count": 6,
   "id": "8bd19fb5-aa2f-4c2c-8c97-2dcd580840fd",
   "metadata": {},
   "outputs": [
    {
     "name": "stdout",
     "output_type": "stream",
     "text": [
      "target                     1.000000\n",
      "worst concave points       0.793566\n",
      "worst perimeter            0.782914\n",
      "mean concave points        0.776614\n",
      "worst radius               0.776454\n",
      "mean perimeter             0.742636\n",
      "worst area                 0.733825\n",
      "mean radius                0.730029\n",
      "mean area                  0.708984\n",
      "mean concavity             0.696360\n",
      "worst concavity            0.659610\n",
      "mean compactness           0.596534\n",
      "worst compactness          0.590998\n",
      "radius error               0.567134\n",
      "perimeter error            0.556141\n",
      "area error                 0.548236\n",
      "worst texture              0.456903\n",
      "worst smoothness           0.421465\n",
      "worst symmetry             0.416294\n",
      "mean texture               0.415185\n",
      "concave points error       0.408042\n",
      "mean smoothness            0.358560\n",
      "mean symmetry              0.330499\n",
      "worst fractal dimension    0.323872\n",
      "compactness error          0.292999\n",
      "concavity error            0.253730\n",
      "fractal dimension error    0.077972\n",
      "smoothness error           0.067016\n",
      "mean fractal dimension     0.012838\n",
      "texture error              0.008303\n",
      "symmetry error             0.006522\n",
      "Name: target, dtype: float64\n"
     ]
    }
   ],
   "source": [
    "correlation_with_target = df.corr()['target'].abs().sort_values(ascending=False)\n",
    "print(correlation_with_target)\n"
   ]
  },
  {
   "cell_type": "code",
   "execution_count": 8,
   "id": "801f1956-4adf-48bf-aeed-3799cbd0f784",
   "metadata": {},
   "outputs": [
    {
     "name": "stdout",
     "output_type": "stream",
     "text": [
      "Index(['worst concave points', 'worst perimeter', 'mean concave points',\n",
      "       'worst radius', 'mean perimeter', 'worst area', 'mean radius',\n",
      "       'mean area', 'mean concavity', 'worst concavity'],\n",
      "      dtype='object')\n"
     ]
    }
   ],
   "source": [
    "top_features = correlation_with_target[1:11].index  \n",
    "print(top_features)"
   ]
  },
  {
   "cell_type": "code",
   "execution_count": 10,
   "id": "b630f135-b290-4af5-834d-53278b7f5518",
   "metadata": {},
   "outputs": [],
   "source": [
    "X = df[top_features]\n",
    "y = df['target']"
   ]
  },
  {
   "cell_type": "code",
   "execution_count": 12,
   "id": "a8570705-f540-4df9-ba95-fe6f9f9b3c3d",
   "metadata": {},
   "outputs": [
    {
     "name": "stdout",
     "output_type": "stream",
     "text": [
      "['malignant' 'benign']\n"
     ]
    }
   ],
   "source": [
    "print(data.target_names)"
   ]
  },
  {
   "cell_type": "code",
   "execution_count": 14,
   "id": "ef789007-0f3a-477a-ac3e-7d8107defba3",
   "metadata": {},
   "outputs": [
    {
     "name": "stdout",
     "output_type": "stream",
     "text": [
      "target\n",
      "1    357\n",
      "0    212\n",
      "Name: count, dtype: int64\n"
     ]
    }
   ],
   "source": [
    "# count value\n",
    "print(df['target'].value_counts())"
   ]
  },
  {
   "cell_type": "code",
   "execution_count": 16,
   "id": "99d2c5fc-ca53-4ad2-b9e5-687f07878791",
   "metadata": {},
   "outputs": [],
   "source": [
    "#preprocessing\n",
    "from sklearn.preprocessing import StandardScaler\n",
    "scaler = StandardScaler()\n",
    "X_scaled = scaler.fit_transform(X)"
   ]
  },
  {
   "cell_type": "code",
   "execution_count": 18,
   "id": "88d99bf8-0c24-471d-90da-e76d53c86c9e",
   "metadata": {},
   "outputs": [],
   "source": [
    "from sklearn.model_selection import train_test_split\n",
    "X_train, X_test, y_train, y_test = train_test_split(X_scaled, y, test_size=0.2, random_state=42)"
   ]
  },
  {
   "cell_type": "markdown",
   "id": "fec03006-4bd9-42cc-b6a6-e8a2ef3f3583",
   "metadata": {},
   "source": [
    "# LOGISTIC REGRESSION"
   ]
  },
  {
   "cell_type": "code",
   "execution_count": 21,
   "id": "c364015c-6184-496d-bb32-0135bcd4803c",
   "metadata": {},
   "outputs": [
    {
     "data": {
      "text/html": [
       "<style>#sk-container-id-1 {\n",
       "  /* Definition of color scheme common for light and dark mode */\n",
       "  --sklearn-color-text: black;\n",
       "  --sklearn-color-line: gray;\n",
       "  /* Definition of color scheme for unfitted estimators */\n",
       "  --sklearn-color-unfitted-level-0: #fff5e6;\n",
       "  --sklearn-color-unfitted-level-1: #f6e4d2;\n",
       "  --sklearn-color-unfitted-level-2: #ffe0b3;\n",
       "  --sklearn-color-unfitted-level-3: chocolate;\n",
       "  /* Definition of color scheme for fitted estimators */\n",
       "  --sklearn-color-fitted-level-0: #f0f8ff;\n",
       "  --sklearn-color-fitted-level-1: #d4ebff;\n",
       "  --sklearn-color-fitted-level-2: #b3dbfd;\n",
       "  --sklearn-color-fitted-level-3: cornflowerblue;\n",
       "\n",
       "  /* Specific color for light theme */\n",
       "  --sklearn-color-text-on-default-background: var(--sg-text-color, var(--theme-code-foreground, var(--jp-content-font-color1, black)));\n",
       "  --sklearn-color-background: var(--sg-background-color, var(--theme-background, var(--jp-layout-color0, white)));\n",
       "  --sklearn-color-border-box: var(--sg-text-color, var(--theme-code-foreground, var(--jp-content-font-color1, black)));\n",
       "  --sklearn-color-icon: #696969;\n",
       "\n",
       "  @media (prefers-color-scheme: dark) {\n",
       "    /* Redefinition of color scheme for dark theme */\n",
       "    --sklearn-color-text-on-default-background: var(--sg-text-color, var(--theme-code-foreground, var(--jp-content-font-color1, white)));\n",
       "    --sklearn-color-background: var(--sg-background-color, var(--theme-background, var(--jp-layout-color0, #111)));\n",
       "    --sklearn-color-border-box: var(--sg-text-color, var(--theme-code-foreground, var(--jp-content-font-color1, white)));\n",
       "    --sklearn-color-icon: #878787;\n",
       "  }\n",
       "}\n",
       "\n",
       "#sk-container-id-1 {\n",
       "  color: var(--sklearn-color-text);\n",
       "}\n",
       "\n",
       "#sk-container-id-1 pre {\n",
       "  padding: 0;\n",
       "}\n",
       "\n",
       "#sk-container-id-1 input.sk-hidden--visually {\n",
       "  border: 0;\n",
       "  clip: rect(1px 1px 1px 1px);\n",
       "  clip: rect(1px, 1px, 1px, 1px);\n",
       "  height: 1px;\n",
       "  margin: -1px;\n",
       "  overflow: hidden;\n",
       "  padding: 0;\n",
       "  position: absolute;\n",
       "  width: 1px;\n",
       "}\n",
       "\n",
       "#sk-container-id-1 div.sk-dashed-wrapped {\n",
       "  border: 1px dashed var(--sklearn-color-line);\n",
       "  margin: 0 0.4em 0.5em 0.4em;\n",
       "  box-sizing: border-box;\n",
       "  padding-bottom: 0.4em;\n",
       "  background-color: var(--sklearn-color-background);\n",
       "}\n",
       "\n",
       "#sk-container-id-1 div.sk-container {\n",
       "  /* jupyter's `normalize.less` sets `[hidden] { display: none; }`\n",
       "     but bootstrap.min.css set `[hidden] { display: none !important; }`\n",
       "     so we also need the `!important` here to be able to override the\n",
       "     default hidden behavior on the sphinx rendered scikit-learn.org.\n",
       "     See: https://github.com/scikit-learn/scikit-learn/issues/21755 */\n",
       "  display: inline-block !important;\n",
       "  position: relative;\n",
       "}\n",
       "\n",
       "#sk-container-id-1 div.sk-text-repr-fallback {\n",
       "  display: none;\n",
       "}\n",
       "\n",
       "div.sk-parallel-item,\n",
       "div.sk-serial,\n",
       "div.sk-item {\n",
       "  /* draw centered vertical line to link estimators */\n",
       "  background-image: linear-gradient(var(--sklearn-color-text-on-default-background), var(--sklearn-color-text-on-default-background));\n",
       "  background-size: 2px 100%;\n",
       "  background-repeat: no-repeat;\n",
       "  background-position: center center;\n",
       "}\n",
       "\n",
       "/* Parallel-specific style estimator block */\n",
       "\n",
       "#sk-container-id-1 div.sk-parallel-item::after {\n",
       "  content: \"\";\n",
       "  width: 100%;\n",
       "  border-bottom: 2px solid var(--sklearn-color-text-on-default-background);\n",
       "  flex-grow: 1;\n",
       "}\n",
       "\n",
       "#sk-container-id-1 div.sk-parallel {\n",
       "  display: flex;\n",
       "  align-items: stretch;\n",
       "  justify-content: center;\n",
       "  background-color: var(--sklearn-color-background);\n",
       "  position: relative;\n",
       "}\n",
       "\n",
       "#sk-container-id-1 div.sk-parallel-item {\n",
       "  display: flex;\n",
       "  flex-direction: column;\n",
       "}\n",
       "\n",
       "#sk-container-id-1 div.sk-parallel-item:first-child::after {\n",
       "  align-self: flex-end;\n",
       "  width: 50%;\n",
       "}\n",
       "\n",
       "#sk-container-id-1 div.sk-parallel-item:last-child::after {\n",
       "  align-self: flex-start;\n",
       "  width: 50%;\n",
       "}\n",
       "\n",
       "#sk-container-id-1 div.sk-parallel-item:only-child::after {\n",
       "  width: 0;\n",
       "}\n",
       "\n",
       "/* Serial-specific style estimator block */\n",
       "\n",
       "#sk-container-id-1 div.sk-serial {\n",
       "  display: flex;\n",
       "  flex-direction: column;\n",
       "  align-items: center;\n",
       "  background-color: var(--sklearn-color-background);\n",
       "  padding-right: 1em;\n",
       "  padding-left: 1em;\n",
       "}\n",
       "\n",
       "\n",
       "/* Toggleable style: style used for estimator/Pipeline/ColumnTransformer box that is\n",
       "clickable and can be expanded/collapsed.\n",
       "- Pipeline and ColumnTransformer use this feature and define the default style\n",
       "- Estimators will overwrite some part of the style using the `sk-estimator` class\n",
       "*/\n",
       "\n",
       "/* Pipeline and ColumnTransformer style (default) */\n",
       "\n",
       "#sk-container-id-1 div.sk-toggleable {\n",
       "  /* Default theme specific background. It is overwritten whether we have a\n",
       "  specific estimator or a Pipeline/ColumnTransformer */\n",
       "  background-color: var(--sklearn-color-background);\n",
       "}\n",
       "\n",
       "/* Toggleable label */\n",
       "#sk-container-id-1 label.sk-toggleable__label {\n",
       "  cursor: pointer;\n",
       "  display: block;\n",
       "  width: 100%;\n",
       "  margin-bottom: 0;\n",
       "  padding: 0.5em;\n",
       "  box-sizing: border-box;\n",
       "  text-align: center;\n",
       "}\n",
       "\n",
       "#sk-container-id-1 label.sk-toggleable__label-arrow:before {\n",
       "  /* Arrow on the left of the label */\n",
       "  content: \"▸\";\n",
       "  float: left;\n",
       "  margin-right: 0.25em;\n",
       "  color: var(--sklearn-color-icon);\n",
       "}\n",
       "\n",
       "#sk-container-id-1 label.sk-toggleable__label-arrow:hover:before {\n",
       "  color: var(--sklearn-color-text);\n",
       "}\n",
       "\n",
       "/* Toggleable content - dropdown */\n",
       "\n",
       "#sk-container-id-1 div.sk-toggleable__content {\n",
       "  max-height: 0;\n",
       "  max-width: 0;\n",
       "  overflow: hidden;\n",
       "  text-align: left;\n",
       "  /* unfitted */\n",
       "  background-color: var(--sklearn-color-unfitted-level-0);\n",
       "}\n",
       "\n",
       "#sk-container-id-1 div.sk-toggleable__content.fitted {\n",
       "  /* fitted */\n",
       "  background-color: var(--sklearn-color-fitted-level-0);\n",
       "}\n",
       "\n",
       "#sk-container-id-1 div.sk-toggleable__content pre {\n",
       "  margin: 0.2em;\n",
       "  border-radius: 0.25em;\n",
       "  color: var(--sklearn-color-text);\n",
       "  /* unfitted */\n",
       "  background-color: var(--sklearn-color-unfitted-level-0);\n",
       "}\n",
       "\n",
       "#sk-container-id-1 div.sk-toggleable__content.fitted pre {\n",
       "  /* unfitted */\n",
       "  background-color: var(--sklearn-color-fitted-level-0);\n",
       "}\n",
       "\n",
       "#sk-container-id-1 input.sk-toggleable__control:checked~div.sk-toggleable__content {\n",
       "  /* Expand drop-down */\n",
       "  max-height: 200px;\n",
       "  max-width: 100%;\n",
       "  overflow: auto;\n",
       "}\n",
       "\n",
       "#sk-container-id-1 input.sk-toggleable__control:checked~label.sk-toggleable__label-arrow:before {\n",
       "  content: \"▾\";\n",
       "}\n",
       "\n",
       "/* Pipeline/ColumnTransformer-specific style */\n",
       "\n",
       "#sk-container-id-1 div.sk-label input.sk-toggleable__control:checked~label.sk-toggleable__label {\n",
       "  color: var(--sklearn-color-text);\n",
       "  background-color: var(--sklearn-color-unfitted-level-2);\n",
       "}\n",
       "\n",
       "#sk-container-id-1 div.sk-label.fitted input.sk-toggleable__control:checked~label.sk-toggleable__label {\n",
       "  background-color: var(--sklearn-color-fitted-level-2);\n",
       "}\n",
       "\n",
       "/* Estimator-specific style */\n",
       "\n",
       "/* Colorize estimator box */\n",
       "#sk-container-id-1 div.sk-estimator input.sk-toggleable__control:checked~label.sk-toggleable__label {\n",
       "  /* unfitted */\n",
       "  background-color: var(--sklearn-color-unfitted-level-2);\n",
       "}\n",
       "\n",
       "#sk-container-id-1 div.sk-estimator.fitted input.sk-toggleable__control:checked~label.sk-toggleable__label {\n",
       "  /* fitted */\n",
       "  background-color: var(--sklearn-color-fitted-level-2);\n",
       "}\n",
       "\n",
       "#sk-container-id-1 div.sk-label label.sk-toggleable__label,\n",
       "#sk-container-id-1 div.sk-label label {\n",
       "  /* The background is the default theme color */\n",
       "  color: var(--sklearn-color-text-on-default-background);\n",
       "}\n",
       "\n",
       "/* On hover, darken the color of the background */\n",
       "#sk-container-id-1 div.sk-label:hover label.sk-toggleable__label {\n",
       "  color: var(--sklearn-color-text);\n",
       "  background-color: var(--sklearn-color-unfitted-level-2);\n",
       "}\n",
       "\n",
       "/* Label box, darken color on hover, fitted */\n",
       "#sk-container-id-1 div.sk-label.fitted:hover label.sk-toggleable__label.fitted {\n",
       "  color: var(--sklearn-color-text);\n",
       "  background-color: var(--sklearn-color-fitted-level-2);\n",
       "}\n",
       "\n",
       "/* Estimator label */\n",
       "\n",
       "#sk-container-id-1 div.sk-label label {\n",
       "  font-family: monospace;\n",
       "  font-weight: bold;\n",
       "  display: inline-block;\n",
       "  line-height: 1.2em;\n",
       "}\n",
       "\n",
       "#sk-container-id-1 div.sk-label-container {\n",
       "  text-align: center;\n",
       "}\n",
       "\n",
       "/* Estimator-specific */\n",
       "#sk-container-id-1 div.sk-estimator {\n",
       "  font-family: monospace;\n",
       "  border: 1px dotted var(--sklearn-color-border-box);\n",
       "  border-radius: 0.25em;\n",
       "  box-sizing: border-box;\n",
       "  margin-bottom: 0.5em;\n",
       "  /* unfitted */\n",
       "  background-color: var(--sklearn-color-unfitted-level-0);\n",
       "}\n",
       "\n",
       "#sk-container-id-1 div.sk-estimator.fitted {\n",
       "  /* fitted */\n",
       "  background-color: var(--sklearn-color-fitted-level-0);\n",
       "}\n",
       "\n",
       "/* on hover */\n",
       "#sk-container-id-1 div.sk-estimator:hover {\n",
       "  /* unfitted */\n",
       "  background-color: var(--sklearn-color-unfitted-level-2);\n",
       "}\n",
       "\n",
       "#sk-container-id-1 div.sk-estimator.fitted:hover {\n",
       "  /* fitted */\n",
       "  background-color: var(--sklearn-color-fitted-level-2);\n",
       "}\n",
       "\n",
       "/* Specification for estimator info (e.g. \"i\" and \"?\") */\n",
       "\n",
       "/* Common style for \"i\" and \"?\" */\n",
       "\n",
       ".sk-estimator-doc-link,\n",
       "a:link.sk-estimator-doc-link,\n",
       "a:visited.sk-estimator-doc-link {\n",
       "  float: right;\n",
       "  font-size: smaller;\n",
       "  line-height: 1em;\n",
       "  font-family: monospace;\n",
       "  background-color: var(--sklearn-color-background);\n",
       "  border-radius: 1em;\n",
       "  height: 1em;\n",
       "  width: 1em;\n",
       "  text-decoration: none !important;\n",
       "  margin-left: 1ex;\n",
       "  /* unfitted */\n",
       "  border: var(--sklearn-color-unfitted-level-1) 1pt solid;\n",
       "  color: var(--sklearn-color-unfitted-level-1);\n",
       "}\n",
       "\n",
       ".sk-estimator-doc-link.fitted,\n",
       "a:link.sk-estimator-doc-link.fitted,\n",
       "a:visited.sk-estimator-doc-link.fitted {\n",
       "  /* fitted */\n",
       "  border: var(--sklearn-color-fitted-level-1) 1pt solid;\n",
       "  color: var(--sklearn-color-fitted-level-1);\n",
       "}\n",
       "\n",
       "/* On hover */\n",
       "div.sk-estimator:hover .sk-estimator-doc-link:hover,\n",
       ".sk-estimator-doc-link:hover,\n",
       "div.sk-label-container:hover .sk-estimator-doc-link:hover,\n",
       ".sk-estimator-doc-link:hover {\n",
       "  /* unfitted */\n",
       "  background-color: var(--sklearn-color-unfitted-level-3);\n",
       "  color: var(--sklearn-color-background);\n",
       "  text-decoration: none;\n",
       "}\n",
       "\n",
       "div.sk-estimator.fitted:hover .sk-estimator-doc-link.fitted:hover,\n",
       ".sk-estimator-doc-link.fitted:hover,\n",
       "div.sk-label-container:hover .sk-estimator-doc-link.fitted:hover,\n",
       ".sk-estimator-doc-link.fitted:hover {\n",
       "  /* fitted */\n",
       "  background-color: var(--sklearn-color-fitted-level-3);\n",
       "  color: var(--sklearn-color-background);\n",
       "  text-decoration: none;\n",
       "}\n",
       "\n",
       "/* Span, style for the box shown on hovering the info icon */\n",
       ".sk-estimator-doc-link span {\n",
       "  display: none;\n",
       "  z-index: 9999;\n",
       "  position: relative;\n",
       "  font-weight: normal;\n",
       "  right: .2ex;\n",
       "  padding: .5ex;\n",
       "  margin: .5ex;\n",
       "  width: min-content;\n",
       "  min-width: 20ex;\n",
       "  max-width: 50ex;\n",
       "  color: var(--sklearn-color-text);\n",
       "  box-shadow: 2pt 2pt 4pt #999;\n",
       "  /* unfitted */\n",
       "  background: var(--sklearn-color-unfitted-level-0);\n",
       "  border: .5pt solid var(--sklearn-color-unfitted-level-3);\n",
       "}\n",
       "\n",
       ".sk-estimator-doc-link.fitted span {\n",
       "  /* fitted */\n",
       "  background: var(--sklearn-color-fitted-level-0);\n",
       "  border: var(--sklearn-color-fitted-level-3);\n",
       "}\n",
       "\n",
       ".sk-estimator-doc-link:hover span {\n",
       "  display: block;\n",
       "}\n",
       "\n",
       "/* \"?\"-specific style due to the `<a>` HTML tag */\n",
       "\n",
       "#sk-container-id-1 a.estimator_doc_link {\n",
       "  float: right;\n",
       "  font-size: 1rem;\n",
       "  line-height: 1em;\n",
       "  font-family: monospace;\n",
       "  background-color: var(--sklearn-color-background);\n",
       "  border-radius: 1rem;\n",
       "  height: 1rem;\n",
       "  width: 1rem;\n",
       "  text-decoration: none;\n",
       "  /* unfitted */\n",
       "  color: var(--sklearn-color-unfitted-level-1);\n",
       "  border: var(--sklearn-color-unfitted-level-1) 1pt solid;\n",
       "}\n",
       "\n",
       "#sk-container-id-1 a.estimator_doc_link.fitted {\n",
       "  /* fitted */\n",
       "  border: var(--sklearn-color-fitted-level-1) 1pt solid;\n",
       "  color: var(--sklearn-color-fitted-level-1);\n",
       "}\n",
       "\n",
       "/* On hover */\n",
       "#sk-container-id-1 a.estimator_doc_link:hover {\n",
       "  /* unfitted */\n",
       "  background-color: var(--sklearn-color-unfitted-level-3);\n",
       "  color: var(--sklearn-color-background);\n",
       "  text-decoration: none;\n",
       "}\n",
       "\n",
       "#sk-container-id-1 a.estimator_doc_link.fitted:hover {\n",
       "  /* fitted */\n",
       "  background-color: var(--sklearn-color-fitted-level-3);\n",
       "}\n",
       "</style><div id=\"sk-container-id-1\" class=\"sk-top-container\"><div class=\"sk-text-repr-fallback\"><pre>LogisticRegression()</pre><b>In a Jupyter environment, please rerun this cell to show the HTML representation or trust the notebook. <br />On GitHub, the HTML representation is unable to render, please try loading this page with nbviewer.org.</b></div><div class=\"sk-container\" hidden><div class=\"sk-item\"><div class=\"sk-estimator fitted sk-toggleable\"><input class=\"sk-toggleable__control sk-hidden--visually\" id=\"sk-estimator-id-1\" type=\"checkbox\" checked><label for=\"sk-estimator-id-1\" class=\"sk-toggleable__label fitted sk-toggleable__label-arrow fitted\">&nbsp;&nbsp;LogisticRegression<a class=\"sk-estimator-doc-link fitted\" rel=\"noreferrer\" target=\"_blank\" href=\"https://scikit-learn.org/1.5/modules/generated/sklearn.linear_model.LogisticRegression.html\">?<span>Documentation for LogisticRegression</span></a><span class=\"sk-estimator-doc-link fitted\">i<span>Fitted</span></span></label><div class=\"sk-toggleable__content fitted\"><pre>LogisticRegression()</pre></div> </div></div></div></div>"
      ],
      "text/plain": [
       "LogisticRegression()"
      ]
     },
     "execution_count": 21,
     "metadata": {},
     "output_type": "execute_result"
    }
   ],
   "source": [
    "from sklearn.linear_model import LogisticRegression\n",
    "log_model = LogisticRegression()\n",
    "log_model.fit(X_train, y_train)"
   ]
  },
  {
   "cell_type": "code",
   "execution_count": 23,
   "id": "948584f1-9469-4063-bcd8-fc604e2323f6",
   "metadata": {},
   "outputs": [],
   "source": [
    "y_pred_LR = log_model.predict(X_test)"
   ]
  },
  {
   "cell_type": "code",
   "execution_count": 25,
   "id": "9bb16245-2f81-48bf-a922-947c5c08b11d",
   "metadata": {},
   "outputs": [
    {
     "name": "stdout",
     "output_type": "stream",
     "text": [
      "Basic Evaluation:\n",
      "Accuracy:   0.9736842105263158\n",
      "Precision:  0.9857142857142858\n",
      "Recall:     0.971830985915493\n",
      "F1 Score:   0.9787234042553191\n"
     ]
    }
   ],
   "source": [
    "from sklearn.metrics import accuracy_score, precision_score, recall_score, f1_score\n",
    "\n",
    "print(\"Basic Evaluation:\")\n",
    "print(\"Accuracy:  \", accuracy_score(y_test, y_pred_LR))\n",
    "print(\"Precision: \", precision_score(y_test, y_pred_LR))\n",
    "print(\"Recall:    \", recall_score(y_test, y_pred_LR))\n",
    "print(\"F1 Score:  \", f1_score(y_test, y_pred_LR))"
   ]
  },
  {
   "cell_type": "code",
   "execution_count": 27,
   "id": "eb978177-694f-4d45-b9c6-3f9e3965924e",
   "metadata": {},
   "outputs": [
    {
     "name": "stdout",
     "output_type": "stream",
     "text": [
      "              precision    recall  f1-score   support\n",
      "\n",
      "      Cancer       0.95      0.98      0.97        43\n",
      "  Non-Cancer       0.99      0.97      0.98        71\n",
      "\n",
      "    accuracy                           0.97       114\n",
      "   macro avg       0.97      0.97      0.97       114\n",
      "weighted avg       0.97      0.97      0.97       114\n",
      "\n"
     ]
    }
   ],
   "source": [
    "# evaluation\n",
    "from sklearn.metrics import classification_report\n",
    "print(classification_report(y_test, y_pred_LR, target_names=['Cancer', 'Non-Cancer'])) "
   ]
  },
  {
   "cell_type": "code",
   "execution_count": 29,
   "id": "26460f39-c546-418b-b955-486fb7146b8f",
   "metadata": {},
   "outputs": [
    {
     "name": "stdout",
     "output_type": "stream",
     "text": [
      "Extended Metrics:\n",
      "Precision (Macro):     0.9701298701298702\n",
      "Recall (Macro):        0.9742875859810023\n",
      "F1 Score (Macro):      0.9721203228173148\n",
      "Precision (Weighted):  0.9739576213260425\n",
      "Recall (Weighted):     0.9736842105263158\n",
      "F1 Score (Weighted):   0.9737421322933159\n"
     ]
    }
   ],
   "source": [
    "print(\"Extended Metrics:\")\n",
    "print(\"Precision (Macro):    \", precision_score(y_test, y_pred_LR, average='macro'))\n",
    "print(\"Recall (Macro):       \", recall_score(y_test, y_pred_LR, average='macro'))\n",
    "print(\"F1 Score (Macro):     \", f1_score(y_test, y_pred_LR, average='macro'))\n",
    "\n",
    "print(\"Precision (Weighted): \", precision_score(y_test, y_pred_LR, average='weighted'))\n",
    "print(\"Recall (Weighted):    \", recall_score(y_test, y_pred_LR, average='weighted'))\n",
    "print(\"F1 Score (Weighted):  \", f1_score(y_test, y_pred_LR, average='weighted'))"
   ]
  },
  {
   "cell_type": "markdown",
   "id": "90b5cf8a-7191-4097-b67d-4d1f6be63f8b",
   "metadata": {},
   "source": [
    "# confusion matrix"
   ]
  },
  {
   "cell_type": "code",
   "execution_count": 32,
   "id": "bc403810-a6a6-4ddb-bbfe-18db0407db93",
   "metadata": {},
   "outputs": [
    {
     "data": {
      "image/png": "[encoded data removed]",
      "text/plain": [
       "<Figure size 640x480 with 2 Axes>"
      ]
     },
     "metadata": {},
     "output_type": "display_data"
    }
   ],
   "source": [
    "from sklearn.metrics import confusion_matrix\n",
    "import seaborn as sns\n",
    "import matplotlib.pyplot as plt\n",
    "\n",
    "cm = confusion_matrix(y_test, y_pred_LR)\n",
    "sns.heatmap(cm, annot=True, fmt='d', cmap='Blues', xticklabels=['Cancer', 'Non-Cancer'], yticklabels=['Cancer', 'Non-Cancer'])\n",
    "plt.xlabel(\"Predicted\")\n",
    "plt.ylabel(\"Actual\")\n",
    "plt.title(\"Confusion Matrix\")\n",
    "plt.show()"
   ]
  },
  {
   "cell_type": "markdown",
   "id": "438f74a7-3271-4243-8001-e3683946b91a",
   "metadata": {},
   "source": [
    "# decision tree"
   ]
  },
  {
   "cell_type": "code",
   "execution_count": 35,
   "id": "ad71dd73-e71d-4d96-9d1e-b4ae90a4ca9a",
   "metadata": {},
   "outputs": [
    {
     "name": "stdout",
     "output_type": "stream",
     "text": [
      "Decision Tree - Basic Metrics:\n",
      "Accuracy:  0.9298\n",
      "Precision: 0.9315\n",
      "Recall:    0.9577\n",
      "F1 Score:  0.9444\n"
     ]
    }
   ],
   "source": [
    "from sklearn.tree import DecisionTreeClassifier\n",
    "from sklearn.metrics import (accuracy_score, precision_score, recall_score, f1_score,classification_report, confusion_matrix)\n",
    "import seaborn as sns\n",
    "import matplotlib.pyplot as plt\n",
    "\n",
    "dt_model = DecisionTreeClassifier(random_state=42)\n",
    "dt_model.fit(X_train, y_train)\n",
    "\n",
    "y_pred_DT = dt_model.predict(X_test)\n",
    "\n",
    "acc_dt = accuracy_score(y_test, y_pred_DT )\n",
    "prec_dt = precision_score(y_test, y_pred_DT )\n",
    "rec_dt = recall_score(y_test,y_pred_DT )\n",
    "f1_dt = f1_score(y_test,y_pred_DT )\n",
    "\n",
    "print(\"Decision Tree - Basic Metrics:\")\n",
    "print(f\"Accuracy:  {acc_dt:.4f}\")\n",
    "print(f\"Precision: {prec_dt:.4f}\")\n",
    "print(f\"Recall:    {rec_dt:.4f}\")\n",
    "print(f\"F1 Score:  {f1_dt:.4f}\")"
   ]
  },
  {
   "cell_type": "code",
   "execution_count": 37,
   "id": "934de022-1108-4276-8b47-f8d4ef9addca",
   "metadata": {},
   "outputs": [
    {
     "name": "stdout",
     "output_type": "stream",
     "text": [
      "\n",
      " Classification Report:\n",
      "              precision    recall  f1-score   support\n",
      "\n",
      "   malignant       0.93      0.88      0.90        43\n",
      "      benign       0.93      0.96      0.94        71\n",
      "\n",
      "    accuracy                           0.93       114\n",
      "   macro avg       0.93      0.92      0.92       114\n",
      "weighted avg       0.93      0.93      0.93       114\n",
      "\n"
     ]
    }
   ],
   "source": [
    "print(\"\\n Classification Report:\")\n",
    "print(classification_report(y_test, y_pred_DT, target_names=data.target_names))"
   ]
  },
  {
   "cell_type": "code",
   "execution_count": 39,
   "id": "cd698ed8-8a17-40d3-8f5c-36b9eb22e126",
   "metadata": {},
   "outputs": [
    {
     "name": "stdout",
     "output_type": "stream",
     "text": [
      "\n",
      " Extended Metrics (Decision Tree):\n",
      "Precision (Macro):     0.9292\n",
      "Recall (Macro):        0.9207\n",
      "F1 Score (Macro):      0.9246\n",
      "Precision (Weighted):  0.9297\n",
      "Recall (Weighted):     0.9298\n",
      "F1 Score (Weighted):   0.9295\n"
     ]
    }
   ],
   "source": [
    "prec_macro_dt = precision_score(y_test,y_pred_DT, average='macro')\n",
    "rec_macro_dt = recall_score(y_test,y_pred_DT, average='macro')\n",
    "f1_macro_dt = f1_score(y_test, y_pred_DT, average='macro')\n",
    "\n",
    "prec_weighted_dt = precision_score(y_test, y_pred_DT, average='weighted')\n",
    "rec_weighted_dt = recall_score(y_test, y_pred_DT, average='weighted')\n",
    "f1_weighted_dt = f1_score(y_test, y_pred_DT, average='weighted')\n",
    "\n",
    "print(\"\\n Extended Metrics (Decision Tree):\")\n",
    "print(f\"Precision (Macro):     {prec_macro_dt:.4f}\")\n",
    "print(f\"Recall (Macro):        {rec_macro_dt:.4f}\")\n",
    "print(f\"F1 Score (Macro):      {f1_macro_dt:.4f}\")\n",
    "print(f\"Precision (Weighted):  {prec_weighted_dt:.4f}\")\n",
    "print(f\"Recall (Weighted):     {rec_weighted_dt:.4f}\")\n",
    "print(f\"F1 Score (Weighted):   {f1_weighted_dt:.4f}\")"
   ]
  },
  {
   "cell_type": "code",
   "execution_count": 43,
   "id": "82e51ae3-dd8b-4180-973d-62bc4e7195a7",
   "metadata": {},
   "outputs": [
    {
     "data": {
      "image/png": "[encoded data removed]",
      "text/plain": [
       "<Figure size 600x400 with 2 Axes>"
      ]
     },
     "metadata": {},
     "output_type": "display_data"
    }
   ],
   "source": [
    "cm_dt = confusion_matrix(y_test, y_pred_DT)\n",
    "plt.figure(figsize=(6, 4))\n",
    "sns.heatmap(cm_dt, annot=True, fmt='d', cmap='Purples',xticklabels=data.target_names, yticklabels=data.target_names)\n",
    "plt.xlabel(\"Predicted Label\")\n",
    "plt.ylabel(\"True Label\")\n",
    "plt.title(\"Confusion Matrix - Decision Tree\")\n",
    "plt.show()"
   ]
  },
  {
   "cell_type": "markdown",
   "id": "7b8194b3-71b5-4e9d-9879-72d7fca466c8",
   "metadata": {},
   "source": [
    "# RANDOM FOREST"
   ]
  },
  {
   "cell_type": "code",
   "execution_count": 46,
   "id": "3b22c865-4d0b-4716-a6e5-9e59ecc27189",
   "metadata": {},
   "outputs": [],
   "source": [
    "from sklearn.ensemble import RandomForestClassifier\n",
    "rf_model = RandomForestClassifier(random_state=42)\n",
    "rf_model.fit(X_train, y_train)\n",
    "y_pred_RF = rf_model.predict(X_test)"
   ]
  },
  {
   "cell_type": "code",
   "execution_count": 48,
   "id": "7870d997-f349-4a9f-8fd6-1e4fc0655fb8",
   "metadata": {},
   "outputs": [
    {
     "name": "stdout",
     "output_type": "stream",
     "text": [
      "Random Forest - Basic Metrics:\n",
      "Accuracy:  0.9561\n",
      "Precision: 0.9583\n",
      "Recall:    0.9718\n",
      "F1 Score:  0.9650\n"
     ]
    }
   ],
   "source": [
    "from sklearn.metrics import accuracy_score, precision_score, recall_score, f1_score\n",
    "acc_rf = accuracy_score(y_test, y_pred_RF)\n",
    "prec_rf = precision_score(y_test, y_pred_RF)\n",
    "rec_rf = recall_score(y_test, y_pred_RF)\n",
    "f1_rf = f1_score(y_test,y_pred_RF)\n",
    "\n",
    "print(\"Random Forest - Basic Metrics:\")\n",
    "print(f\"Accuracy:  {acc_rf:.4f}\")\n",
    "print(f\"Precision: {prec_rf:.4f}\")\n",
    "print(f\"Recall:    {rec_rf:.4f}\")\n",
    "print(f\"F1 Score:  {f1_rf:.4f}\")"
   ]
  },
  {
   "cell_type": "code",
   "execution_count": 50,
   "id": "2bd45f52-fd75-4e9d-a8fb-24299deb57ab",
   "metadata": {},
   "outputs": [
    {
     "name": "stdout",
     "output_type": "stream",
     "text": [
      "\n",
      " Classification Report:\n",
      "              precision    recall  f1-score   support\n",
      "\n",
      "   malignant       0.95      0.93      0.94        43\n",
      "      benign       0.96      0.97      0.97        71\n",
      "\n",
      "    accuracy                           0.96       114\n",
      "   macro avg       0.96      0.95      0.95       114\n",
      "weighted avg       0.96      0.96      0.96       114\n",
      "\n"
     ]
    }
   ],
   "source": [
    "from sklearn.metrics import classification_report\n",
    "print(\"\\n Classification Report:\")\n",
    "print(classification_report(y_test, y_pred_RF, target_names=data.target_names))"
   ]
  },
  {
   "cell_type": "code",
   "execution_count": 52,
   "id": "e5dbb17b-903b-4239-91e8-444000e1a0ef",
   "metadata": {},
   "outputs": [
    {
     "name": "stdout",
     "output_type": "stream",
     "text": [
      "\n",
      " Extended Metrics (Random Forest):\n",
      "Precision (Macro):     0.9554\n",
      "Recall (Macro):        0.9510\n",
      "F1 Score (Macro):      0.9531\n",
      "Precision (Weighted):  0.9561\n",
      "Recall (Weighted):     0.9561\n",
      "F1 Score (Weighted):   0.9560\n"
     ]
    }
   ],
   "source": [
    "prec_macro_rf = precision_score(y_test, y_pred_RF, average='macro')\n",
    "rec_macro_rf = recall_score(y_test, y_pred_RF, average='macro')\n",
    "f1_macro_rf = f1_score(y_test, y_pred_RF, average='macro')\n",
    "\n",
    "prec_weighted_rf = precision_score(y_test, y_pred_RF, average='weighted')\n",
    "rec_weighted_rf = recall_score(y_test,y_pred_RF, average='weighted')\n",
    "f1_weighted_rf = f1_score(y_test, y_pred_RF, average='weighted')\n",
    "\n",
    "print(\"\\n Extended Metrics (Random Forest):\")\n",
    "print(f\"Precision (Macro):     {prec_macro_rf:.4f}\")\n",
    "print(f\"Recall (Macro):        {rec_macro_rf:.4f}\")\n",
    "print(f\"F1 Score (Macro):      {f1_macro_rf:.4f}\")\n",
    "print(f\"Precision (Weighted):  {prec_weighted_rf:.4f}\")\n",
    "print(f\"Recall (Weighted):     {rec_weighted_rf:.4f}\")\n",
    "print(f\"F1 Score (Weighted):   {f1_weighted_rf:.4f}\")"
   ]
  },
  {
   "cell_type": "code",
   "execution_count": 54,
   "id": "bb2eb1ec-ed50-412d-9c9c-f8eedf3197a6",
   "metadata": {},
   "outputs": [
    {
     "data": {
      "image/png": "[encoded data removed]",
      "text/plain": [
       "<Figure size 600x400 with 2 Axes>"
      ]
     },
     "metadata": {},
     "output_type": "display_data"
    }
   ],
   "source": [
    "from sklearn.metrics import confusion_matrix\n",
    "import seaborn as sns\n",
    "import matplotlib.pyplot as plt\n",
    "\n",
    "cm_rf = confusion_matrix(y_test,y_pred_RF)\n",
    "plt.figure(figsize=(6, 4))\n",
    "sns.heatmap(cm_rf, annot=True, fmt='d', cmap='Greens',xticklabels=data.target_names, yticklabels=data.target_names)\n",
    "plt.xlabel(\"Predicted Label\")\n",
    "plt.ylabel(\"True Label\")\n",
    "plt.title(\"Confusion Matrix - Random Forest\")\n",
    "plt.show()"
   ]
  },
  {
   "cell_type": "markdown",
   "id": "3fbaee0d-cab5-405d-a0bd-fce6f40a0007",
   "metadata": {},
   "source": [
    "# support vector regressor"
   ]
  },
  {
   "cell_type": "code",
   "execution_count": 57,
   "id": "99174800-7b9c-4966-b7b2-07ddefaf8efe",
   "metadata": {},
   "outputs": [],
   "source": [
    "from sklearn.svm import SVC\n",
    "svm_model = SVC(kernel='linear', random_state=42)  \n",
    "svm_model.fit(X_train, y_train)\n",
    "y_pred_SVM = svm_model.predict(X_test)"
   ]
  },
  {
   "cell_type": "code",
   "execution_count": 59,
   "id": "2406bab6-cb0e-4219-a6e3-e63cbdf4c7ba",
   "metadata": {},
   "outputs": [
    {
     "name": "stdout",
     "output_type": "stream",
     "text": [
      " SVM - Basic Metrics:\n",
      "Accuracy:  0.9825\n",
      "Precision: 0.9859\n",
      "Recall:    0.9859\n",
      "F1 Score:  0.9859\n"
     ]
    }
   ],
   "source": [
    "from sklearn.metrics import accuracy_score, precision_score, recall_score, f1_score\n",
    "acc_svm = accuracy_score(y_test, y_pred_SVM)\n",
    "prec_svm = precision_score(y_test, y_pred_SVM)\n",
    "rec_svm = recall_score(y_test, y_pred_SVM)\n",
    "f1_svm = f1_score(y_test, y_pred_SVM)\n",
    "\n",
    "print(\" SVM - Basic Metrics:\")\n",
    "print(f\"Accuracy:  {acc_svm:.4f}\")\n",
    "print(f\"Precision: {prec_svm:.4f}\")\n",
    "print(f\"Recall:    {rec_svm:.4f}\")\n",
    "print(f\"F1 Score:  {f1_svm:.4f}\")"
   ]
  },
  {
   "cell_type": "code",
   "execution_count": 61,
   "id": "3c7a1894-b20c-43aa-80fa-5540c95e6d96",
   "metadata": {},
   "outputs": [
    {
     "name": "stdout",
     "output_type": "stream",
     "text": [
      "\n",
      " Classification Report (SVM):\n",
      "              precision    recall  f1-score   support\n",
      "\n",
      "   malignant       0.98      0.98      0.98        43\n",
      "      benign       0.99      0.99      0.99        71\n",
      "\n",
      "    accuracy                           0.98       114\n",
      "   macro avg       0.98      0.98      0.98       114\n",
      "weighted avg       0.98      0.98      0.98       114\n",
      "\n"
     ]
    }
   ],
   "source": [
    "from sklearn.metrics import classification_report\n",
    "print(\"\\n Classification Report (SVM):\")\n",
    "print(classification_report(y_test, y_pred_SVM, target_names=data.target_names))"
   ]
  },
  {
   "cell_type": "code",
   "execution_count": 63,
   "id": "7f33850b-2552-4b8e-ac83-b4c41a38b422",
   "metadata": {},
   "outputs": [
    {
     "name": "stdout",
     "output_type": "stream",
     "text": [
      "\n",
      " Extended Metrics (SVM):\n",
      "Precision (Macro):     0.9813\n",
      "Recall (Macro):        0.9813\n",
      "F1 Score (Macro):      0.9813\n",
      "Precision (Weighted):  0.9825\n",
      "Recall (Weighted):     0.9825\n",
      "F1 Score (Weighted):   0.9825\n"
     ]
    }
   ],
   "source": [
    "prec_macro_svm = precision_score(y_test, y_pred_SVM, average='macro')\n",
    "rec_macro_svm = recall_score(y_test,y_pred_SVM, average='macro')\n",
    "f1_macro_svm = f1_score(y_test, y_pred_SVM, average='macro')\n",
    "\n",
    "prec_weighted_svm = precision_score(y_test, y_pred_SVM, average='weighted')\n",
    "rec_weighted_svm = recall_score(y_test, y_pred_SVM, average='weighted')\n",
    "f1_weighted_svm = f1_score(y_test, y_pred_SVM, average='weighted')\n",
    "\n",
    "print(\"\\n Extended Metrics (SVM):\")\n",
    "print(f\"Precision (Macro):     {prec_macro_svm:.4f}\")\n",
    "print(f\"Recall (Macro):        {rec_macro_svm:.4f}\")\n",
    "print(f\"F1 Score (Macro):      {f1_macro_svm:.4f}\")\n",
    "print(f\"Precision (Weighted):  {prec_weighted_svm:.4f}\")\n",
    "print(f\"Recall (Weighted):     {rec_weighted_svm:.4f}\")\n",
    "print(f\"F1 Score (Weighted):   {f1_weighted_svm:.4f}\")"
   ]
  },
  {
   "cell_type": "code",
   "execution_count": 65,
   "id": "7aa0690f-acfa-43ae-824b-184b1283b66d",
   "metadata": {},
   "outputs": [
    {
     "data": {
      "image/png": "[encoded data removed]",
      "text/plain": [
       "<Figure size 600x400 with 2 Axes>"
      ]
     },
     "metadata": {},
     "output_type": "display_data"
    }
   ],
   "source": [
    "from sklearn.metrics import confusion_matrix\n",
    "import seaborn as sns\n",
    "import matplotlib.pyplot as plt\n",
    "\n",
    "cm_svm = confusion_matrix(y_test,y_pred_SVM)\n",
    "plt.figure(figsize=(6, 4))\n",
    "sns.heatmap(cm_svm, annot=True, fmt='d', cmap='Blues',xticklabels=data.target_names, yticklabels=data.target_names)\n",
    "plt.xlabel(\"Predicted Label\")\n",
    "plt.ylabel(\"True Label\")\n",
    "plt.title(\"Confusion Matrix - SVM\")\n",
    "plt.show()"
   ]
  },
  {
   "cell_type": "markdown",
   "id": "d5ac2fb5-8287-4f59-8637-651cbabee066",
   "metadata": {},
   "source": [
    "# KNN"
   ]
  },
  {
   "cell_type": "code",
   "execution_count": 68,
   "id": "168f8812-889a-4332-a007-c1c7029df132",
   "metadata": {},
   "outputs": [],
   "source": [
    "from sklearn.neighbors import KNeighborsClassifier\n",
    "knn_model = KNeighborsClassifier(n_neighbors=5)\n",
    "knn_model.fit(X_train, y_train)\n",
    "y_pred_KNN = knn_model.predict(X_test)"
   ]
  },
  {
   "cell_type": "code",
   "execution_count": 70,
   "id": "43bd33cb-c093-4e4d-9c1f-4d5c05413c80",
   "metadata": {},
   "outputs": [
    {
     "name": "stdout",
     "output_type": "stream",
     "text": [
      "KNN - Basic Metrics:\n",
      "Accuracy:  0.9737\n",
      "Precision: 0.9857\n",
      "Recall:    0.9718\n",
      "F1 Score:  0.9787\n"
     ]
    }
   ],
   "source": [
    "from sklearn.metrics import accuracy_score, precision_score, recall_score, f1_score\n",
    "acc_knn = accuracy_score(y_test, y_pred_KNN)\n",
    "prec_knn = precision_score(y_test, y_pred_KNN)\n",
    "rec_knn = recall_score(y_test, y_pred_KNN)\n",
    "f1_knn = f1_score(y_test,y_pred_KNN)\n",
    "\n",
    "print(\"KNN - Basic Metrics:\")\n",
    "print(f\"Accuracy:  {acc_knn:.4f}\")\n",
    "print(f\"Precision: {prec_knn:.4f}\")\n",
    "print(f\"Recall:    {rec_knn:.4f}\")\n",
    "print(f\"F1 Score:  {f1_knn:.4f}\")"
   ]
  },
  {
   "cell_type": "code",
   "execution_count": 72,
   "id": "8440ac0d-bd2d-4894-be20-7ff751ded1c5",
   "metadata": {},
   "outputs": [
    {
     "name": "stdout",
     "output_type": "stream",
     "text": [
      "\n",
      "  Classification Report (KNN):\n",
      "              precision    recall  f1-score   support\n",
      "\n",
      "   malignant       0.95      0.98      0.97        43\n",
      "      benign       0.99      0.97      0.98        71\n",
      "\n",
      "    accuracy                           0.97       114\n",
      "   macro avg       0.97      0.97      0.97       114\n",
      "weighted avg       0.97      0.97      0.97       114\n",
      "\n"
     ]
    }
   ],
   "source": [
    "from sklearn.metrics import classification_report\n",
    "print(\"\\n  Classification Report (KNN):\")\n",
    "print(classification_report(y_test, y_pred_KNN, target_names=data.target_names))"
   ]
  },
  {
   "cell_type": "code",
   "execution_count": 74,
   "id": "5e261505-fb7c-433c-9a23-2091b013a5e8",
   "metadata": {},
   "outputs": [
    {
     "name": "stdout",
     "output_type": "stream",
     "text": [
      "\n",
      " Extended Metrics (KNN):\n",
      "Precision (Macro):     0.9701\n",
      "Recall (Macro):        0.9743\n",
      "F1 Score (Macro):      0.9721\n",
      "Precision (Weighted):  0.9740\n",
      "Recall (Weighted):     0.9737\n",
      "F1 Score (Weighted):   0.9737\n"
     ]
    }
   ],
   "source": [
    "prec_macro_knn = precision_score(y_test, y_pred_KNN, average='macro')\n",
    "rec_macro_knn = recall_score(y_test, y_pred_KNN, average='macro')\n",
    "f1_macro_knn = f1_score(y_test, y_pred_KNN, average='macro')\n",
    "\n",
    "prec_weighted_knn = precision_score(y_test, y_pred_KNN, average='weighted')\n",
    "rec_weighted_knn = recall_score(y_test,y_pred_KNN, average='weighted')\n",
    "f1_weighted_knn = f1_score(y_test, y_pred_KNN, average='weighted')\n",
    "\n",
    "print(\"\\n Extended Metrics (KNN):\")\n",
    "print(f\"Precision (Macro):     {prec_macro_knn:.4f}\")\n",
    "print(f\"Recall (Macro):        {rec_macro_knn:.4f}\")\n",
    "print(f\"F1 Score (Macro):      {f1_macro_knn:.4f}\")\n",
    "print(f\"Precision (Weighted):  {prec_weighted_knn:.4f}\")\n",
    "print(f\"Recall (Weighted):     {rec_weighted_knn:.4f}\")\n",
    "print(f\"F1 Score (Weighted):   {f1_weighted_knn:.4f}\")"
   ]
  },
  {
   "cell_type": "code",
   "execution_count": 76,
   "id": "cef37ffb-2784-4731-9d10-371a045f6ba7",
   "metadata": {},
   "outputs": [
    {
     "name": "stderr",
     "output_type": "stream",
     "text": [
      "C:\\Users\\HP\\anaconda3\\Lib\\site-packages\\IPython\\core\\pylabtools.py:170: UserWarning: Glyph 128095 (\\N{ATHLETIC SHOE}) missing from font(s) DejaVu Sans.\n",
      "  fig.canvas.print_figure(bytes_io, **kw)\n"
     ]
    },
    {
     "data": {
      "image/png": "[encoded data removed]",
      "text/plain": [
       "<Figure size 600x400 with 2 Axes>"
      ]
     },
     "metadata": {},
     "output_type": "display_data"
    }
   ],
   "source": [
    "from sklearn.metrics import confusion_matrix\n",
    "import seaborn as sns\n",
    "import matplotlib.pyplot as plt\n",
    "\n",
    "cm_knn = confusion_matrix(y_test, y_pred_KNN)\n",
    "plt.figure(figsize=(6, 4))\n",
    "sns.heatmap(cm_knn, annot=True, fmt='d', cmap='Purples',xticklabels=data.target_names, yticklabels=data.target_names)\n",
    "plt.xlabel(\"Predicted Label\")\n",
    "plt.ylabel(\"True Label\")\n",
    "plt.title(\"👟 Confusion Matrix - KNN\")\n",
    "plt.show()"
   ]
  },
  {
   "cell_type": "markdown",
   "id": "a6aef706-4d98-40a7-bc04-ec7468eaf737",
   "metadata": {},
   "source": [
    "# COMPARISON"
   ]
  },
  {
   "cell_type": "code",
   "execution_count": 79,
   "id": "35e253be-049f-4f19-8a28-4db5e10ea4c4",
   "metadata": {},
   "outputs": [
    {
     "name": "stdout",
     "output_type": "stream",
     "text": [
      "\n",
      " Model Comparison Based on F1 Scores:\n",
      "              Model  F1 Macro  F1 Weighted\n",
      "                SVM  0.981330     0.982456\n",
      "Logistic Regression  0.972120     0.973742\n",
      "                KNN  0.972120     0.973742\n",
      "      Random Forest  0.953106     0.956036\n",
      "      Decision Tree  0.924603     0.929476\n"
     ]
    }
   ],
   "source": [
    "from sklearn.metrics import f1_score\n",
    "import pandas as pd\n",
    "\n",
    "f1_scores = {\n",
    "    'Model': ['Logistic Regression', 'Decision Tree', 'KNN', 'SVM', 'Random Forest'],\n",
    "    'F1 Macro': [\n",
    "        f1_score(y_test, y_pred_LR, average='macro'),\n",
    "        f1_score(y_test, y_pred_DT, average='macro'),\n",
    "        f1_score(y_test, y_pred_KNN, average='macro'),\n",
    "        f1_score(y_test, y_pred_SVM, average='macro'),\n",
    "        f1_score(y_test, y_pred_RF, average='macro')\n",
    "    ],\n",
    "    'F1 Weighted': [\n",
    "        f1_score(y_test, y_pred_LR, average='weighted'),\n",
    "        f1_score(y_test, y_pred_DT, average='weighted'),\n",
    "        f1_score(y_test, y_pred_KNN, average='weighted'),\n",
    "        f1_score(y_test, y_pred_SVM, average='weighted'),\n",
    "        f1_score(y_test, y_pred_RF, average='weighted')\n",
    "    ]\n",
    "}\n",
    "f1_df = pd.DataFrame(f1_scores)\n",
    "f1_df_sorted = f1_df.sort_values(by='F1 Weighted', ascending=False)\n",
    "\n",
    "print(\"\\n Model Comparison Based on F1 Scores:\")\n",
    "print(f1_df_sorted.to_string(index=False))"
   ]
  },
  {
   "cell_type": "code",
   "execution_count": null,
   "id": "fd6df024-9ba3-44f3-87b2-15b369507f3d",
   "metadata": {},
   "outputs": [],
   "source": [
    "#Best Model: Logistic Regression\n",
    "#It has the highest F1 Macro (0.9719) and F1 Weighted (0.9736).\n",
    "#This indicates that it performs consistently well across all classes, and especially on more common ones."
   ]
  }
 ],
 "metadata": {
  "kernelspec": {
   "display_name": "Python [conda env:base] *",
   "language": "python",
   "name": "conda-base-py"
  },
  "language_info": {
   "codemirror_mode": {
    "name": "ipython",
    "version": 3
   },
   "file_extension": ".py",
   "mimetype": "text/x-python",
   "name": "python",
   "nbconvert_exporter": "python",
   "pygments_lexer": "ipython3",
   "version": "3.12.7"
  }
 },
 "nbformat": 4,
 "nbformat_minor": 5
}
